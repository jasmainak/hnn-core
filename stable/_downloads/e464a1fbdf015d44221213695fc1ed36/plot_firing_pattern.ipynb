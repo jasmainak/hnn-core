{
  "cells": [
    {
      "cell_type": "code",
      "execution_count": null,
      "metadata": {
        "collapsed": false
      },
      "outputs": [],
      "source": [
        "%matplotlib inline"
      ]
    },
    {
      "cell_type": "markdown",
      "metadata": {},
      "source": [
        "\n# 04. Plot firing pattern\n\nThis example demonstrates how to inspect the firing\npattern of cells in the HNN model.\n\n"
      ]
    },
    {
      "cell_type": "code",
      "execution_count": null,
      "metadata": {
        "collapsed": false
      },
      "outputs": [],
      "source": [
        "# Authors: Mainak Jas <mjas@harvard.mgh.edu>\n#          Nick Tolley <nick nicholas_tolley@brown.edu>\n\nimport os.path as op\nimport tempfile"
      ]
    },
    {
      "cell_type": "markdown",
      "metadata": {},
      "source": [
        "Let us import ``hnn_core``.\n\n"
      ]
    },
    {
      "cell_type": "code",
      "execution_count": null,
      "metadata": {
        "collapsed": false
      },
      "outputs": [],
      "source": [
        "import hnn_core\nfrom hnn_core import read_params, read_spikes, Network, simulate_dipole\n\nhnn_core_root = op.dirname(hnn_core.__file__)"
      ]
    },
    {
      "cell_type": "markdown",
      "metadata": {},
      "source": [
        "Then we read the parameters file\n\n"
      ]
    },
    {
      "cell_type": "code",
      "execution_count": null,
      "metadata": {
        "collapsed": false
      },
      "outputs": [],
      "source": [
        "params_fname = op.join(hnn_core_root, 'param', 'default.json')\nparams = read_params(params_fname)"
      ]
    },
    {
      "cell_type": "markdown",
      "metadata": {},
      "source": [
        "Now let's build the network. We have used the same weights as in the\n`evoked example <sphx_glr_auto_examples_plot_simulate_evoked.py>`.\n\n"
      ]
    },
    {
      "cell_type": "code",
      "execution_count": null,
      "metadata": {
        "collapsed": false
      },
      "outputs": [],
      "source": [
        "import matplotlib.pyplot as plt\n\nnet = Network(params)"
      ]
    },
    {
      "cell_type": "markdown",
      "metadata": {},
      "source": [
        "``net`` does not have any driving inputs and only defines the local network\nconnectivity. Let us go ahead and first add a distal evoked drive.\nWe need to define the AMPA and NMDA weights for the connections. An\n\"evoked drive\" defines inputs that are normally distributed with a certain\nmean and standard deviation.\n\n"
      ]
    },
    {
      "cell_type": "code",
      "execution_count": null,
      "metadata": {
        "collapsed": false
      },
      "outputs": [],
      "source": [
        "weights_ampa_d1 = {'L2_basket': 0.006562, 'L2_pyramidal': 7e-6,\n                   'L5_pyramidal': 0.142300}\nweights_nmda_d1 = {'L2_basket': 0.019482, 'L2_pyramidal': 0.004317,\n                   'L5_pyramidal': 0.080074}\nsynaptic_delays_d1 = {'L2_basket': 0.1, 'L2_pyramidal': 0.1,\n                      'L5_pyramidal': 0.1}\nnet.add_evoked_drive(\n    'evdist1', mu=63.53, sigma=3.85, numspikes=1, weights_ampa=weights_ampa_d1,\n    weights_nmda=weights_nmda_d1, location='distal',\n    synaptic_delays=synaptic_delays_d1, seedcore=4)"
      ]
    },
    {
      "cell_type": "markdown",
      "metadata": {},
      "source": [
        "The reason it is called an \"evoked drive\" is it can be used to simulate\nwaveforms resembling evoked responses. Here, we show how to do it with two\nproximal drives which drive current up the dendrite and one distal drive\nwhich drives current down the dendrite producing the negative deflection.\n\n"
      ]
    },
    {
      "cell_type": "code",
      "execution_count": null,
      "metadata": {
        "collapsed": false
      },
      "outputs": [],
      "source": [
        "weights_ampa_p1 = {'L2_basket': 0.08831, 'L2_pyramidal': 0.01525,\n                   'L5_basket': 0.19934, 'L5_pyramidal': 0.00865}\nsynaptic_delays_prox = {'L2_basket': 0.1, 'L2_pyramidal': 0.1,\n                        'L5_basket': 1., 'L5_pyramidal': 1.}\n\n# all NMDA weights are zero; pass None explicitly\nnet.add_evoked_drive(\n    'evprox1', mu=26.61, sigma=2.47, numspikes=1, weights_ampa=weights_ampa_p1,\n    weights_nmda=None, location='proximal',\n    synaptic_delays=synaptic_delays_prox, seedcore=4)"
      ]
    },
    {
      "cell_type": "markdown",
      "metadata": {},
      "source": [
        "Now we add the second proximal evoked drive and simulate the network\ndynamics with somatic voltage recordings enabled. Note: only AMPA weights\ndiffer from first.\n\n"
      ]
    },
    {
      "cell_type": "code",
      "execution_count": null,
      "metadata": {
        "collapsed": false
      },
      "outputs": [],
      "source": [
        "weights_ampa_p2 = {'L2_basket': 0.000003, 'L2_pyramidal': 1.438840,\n                   'L5_basket': 0.008958, 'L5_pyramidal': 0.684013}\n# all NMDA weights are zero; omit weights_nmda (defaults to None)\nnet.add_evoked_drive(\n    'evprox2', mu=137.12, sigma=8.33, numspikes=1,\n    weights_ampa=weights_ampa_p2, location='proximal',\n    synaptic_delays=synaptic_delays_prox, seedcore=4)\n\ndpls = simulate_dipole(net, record_vsoma=True)"
      ]
    },
    {
      "cell_type": "markdown",
      "metadata": {},
      "source": [
        "Here, we explain more details about the data structures and how they can\nbe used to better interpret the data. The cell IDs (gids) uniquely define\nneurons in the network and are stored in the :class:`~hnn_core.Network` \nobject as a dictionary\n\n"
      ]
    },
    {
      "cell_type": "code",
      "execution_count": null,
      "metadata": {
        "collapsed": false
      },
      "outputs": [],
      "source": [
        "gid_ranges = net.gid_ranges\nprint(net.gid_ranges)"
      ]
    },
    {
      "cell_type": "markdown",
      "metadata": {},
      "source": [
        "Simulated voltage in the soma is stored in :class:`~hnn_core.CellResponse`\nas a dictionary. The CellResponse object stores data produced by individual\ncells including spikes, somatic voltages and currents.\n\n"
      ]
    },
    {
      "cell_type": "code",
      "execution_count": null,
      "metadata": {
        "collapsed": false
      },
      "outputs": [],
      "source": [
        "trial_idx = 0\nvsoma = net.cell_response.vsoma[trial_idx]\nprint(vsoma.keys())"
      ]
    },
    {
      "cell_type": "markdown",
      "metadata": {},
      "source": [
        "We can plot the firing pattern of individual cells by indexing with the gid\n\n"
      ]
    },
    {
      "cell_type": "code",
      "execution_count": null,
      "metadata": {
        "collapsed": false
      },
      "outputs": [],
      "source": [
        "gid = 170\nplt.figure(figsize=(4, 4), constrained_layout=True)\nplt.plot(net.cell_response.times, vsoma[gid])\nplt.title('%s (gid=%d)' % (net.gid_to_type(gid), gid))\nplt.xlabel('Time (ms)')\nplt.ylabel('Voltage (mV)')\nplt.show()"
      ]
    },
    {
      "cell_type": "markdown",
      "metadata": {},
      "source": [
        "Also, we can plot the spikes in the network and write them to text files.\nNote that we can use formatting syntax to specify the filename pattern\nwith which each trial will be written ('spk_1.txt', 'spk_2.txt, ...). To\nread spikes back in, we can use wildcard expressions.\n\n"
      ]
    },
    {
      "cell_type": "code",
      "execution_count": null,
      "metadata": {
        "collapsed": false
      },
      "outputs": [],
      "source": [
        "net.cell_response.plot_spikes_raster()\nwith tempfile.TemporaryDirectory() as tmp_dir_name:\n    net.cell_response.write(op.join(tmp_dir_name, 'spk_%d.txt'))\n    cell_response = read_spikes(op.join(tmp_dir_name, 'spk_*.txt'))\ncell_response.plot_spikes_raster()"
      ]
    },
    {
      "cell_type": "markdown",
      "metadata": {},
      "source": [
        "We can additionally calculate the mean spike rates for each cell class by\nspecifying a time window with ``tstart`` and ``tstop``.\n\n"
      ]
    },
    {
      "cell_type": "code",
      "execution_count": null,
      "metadata": {
        "collapsed": false
      },
      "outputs": [],
      "source": [
        "all_rates = cell_response.mean_rates(tstart=0, tstop=170,\n                                     gid_ranges=net.gid_ranges,\n                                     mean_type='all')\ntrial_rates = cell_response.mean_rates(tstart=0, tstop=170,\n                                       gid_ranges=net.gid_ranges,\n                                       mean_type='trial')\nprint('Mean spike rates across trials:')\nprint(all_rates)\nprint('Mean spike rates for individual trials:')\nprint(trial_rates)"
      ]
    },
    {
      "cell_type": "markdown",
      "metadata": {},
      "source": [
        "Finally, we can plot the soma voltage along with the spiking activity with\nraster plots and histograms for the pyramidal cells.\n\n"
      ]
    },
    {
      "cell_type": "code",
      "execution_count": null,
      "metadata": {
        "collapsed": false
      },
      "outputs": [],
      "source": [
        "fig, axes = plt.subplots(3, 1, figsize=(5, 7), sharex=True)\n\nfor idx in range(10):  # only 10 cells per cell-type\n    gid = gid_ranges['L2_pyramidal'][idx]\n    axes[0].plot(net.cell_response.times, vsoma[gid], color='g')\n    gid = gid_ranges['L5_pyramidal'][idx]\n    axes[0].plot(net.cell_response.times, vsoma[gid], color='r')\nnet.cell_response.plot_spikes_raster(ax=axes[1])\nnet.cell_response.plot_spikes_hist(ax=axes[2],\n                                   spike_types=['L5_pyramidal',\n                                                'L2_pyramidal'])"
      ]
    }
  ],
  "metadata": {
    "kernelspec": {
      "display_name": "Python 3",
      "language": "python",
      "name": "python3"
    },
    "language_info": {
      "codemirror_mode": {
        "name": "ipython",
        "version": 3
      },
      "file_extension": ".py",
      "mimetype": "text/x-python",
      "name": "python",
      "nbconvert_exporter": "python",
      "pygments_lexer": "ipython3",
      "version": "3.6.13"
    }
  },
  "nbformat": 4,
  "nbformat_minor": 0
}