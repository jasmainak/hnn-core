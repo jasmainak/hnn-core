{
  "cells": [
    {
      "cell_type": "code",
      "execution_count": null,
      "metadata": {
        "collapsed": false
      },
      "outputs": [],
      "source": [
        "%matplotlib inline"
      ]
    },
    {
      "cell_type": "markdown",
      "metadata": {},
      "source": [
        "\n# 06. Use MPI backend for parallelization\n\nThis example demonstrates how to use the MPI backend for\nsimulating dipoles using HNN-core.\n\nThe MPI backend allows running the simulation in parallel across neurons in the\nnetwork even with a single trial. For this, you will\nneed the `MPI related software <parallel>` installed. Note that if you\nwant to simulate in parallel across trials, the Joblib backend allows this\nwithout the need to install and configure MPI.\n\n"
      ]
    },
    {
      "cell_type": "code",
      "execution_count": null,
      "metadata": {
        "collapsed": false
      },
      "outputs": [],
      "source": [
        "# Authors: Mainak Jas <mainak.jas@telecom-paristech.fr>\n#          Blake Caldwell <blake_caldwell@brown.edu>"
      ]
    },
    {
      "cell_type": "markdown",
      "metadata": {},
      "source": [
        "Let us import hnn_core\n\n"
      ]
    },
    {
      "cell_type": "code",
      "execution_count": null,
      "metadata": {
        "collapsed": false
      },
      "outputs": [],
      "source": [
        "import os.path as op\n\nimport hnn_core\nfrom hnn_core import simulate_dipole, read_params, Network"
      ]
    },
    {
      "cell_type": "markdown",
      "metadata": {},
      "source": [
        "Then we setup the directories and Neuron\n\n"
      ]
    },
    {
      "cell_type": "code",
      "execution_count": null,
      "metadata": {
        "collapsed": false
      },
      "outputs": [],
      "source": [
        "hnn_core_root = op.dirname(hnn_core.__file__)"
      ]
    },
    {
      "cell_type": "markdown",
      "metadata": {},
      "source": [
        "Then we read the default parameters file\n\n"
      ]
    },
    {
      "cell_type": "code",
      "execution_count": null,
      "metadata": {
        "collapsed": false
      },
      "outputs": [],
      "source": [
        "params_fname = op.join(hnn_core_root, 'param', 'default.json')\nparams = read_params(params_fname)\nprint(params)"
      ]
    },
    {
      "cell_type": "markdown",
      "metadata": {},
      "source": [
        "Update a few of the default parameters related to visualisation\n\n"
      ]
    },
    {
      "cell_type": "code",
      "execution_count": null,
      "metadata": {
        "collapsed": false
      },
      "outputs": [],
      "source": [
        "params.update({\n    'tstop': 310.0,\n})"
      ]
    },
    {
      "cell_type": "markdown",
      "metadata": {},
      "source": [
        "Following `the alpha example\n<sphx_glr_auto_examples_plot_simulate_alpha.py>`, we add a\n~10 Hz \"bursty\" drive starting at 50 ms and continuing to the end of the\nsimulation. Each burst consists of a pair (2) of spikes, spaced 10 ms apart.\nThe occurrence of each burst is jittered by a random, normally distributed\namount (20 ms standard deviation). We repeat the burst train 10 times, each\ntime with unique randomization.\n\n"
      ]
    },
    {
      "cell_type": "code",
      "execution_count": null,
      "metadata": {
        "collapsed": false
      },
      "outputs": [],
      "source": [
        "net = Network(params)\n\nweights_ampa = {'L2_pyramidal': 5.4e-5, 'L5_pyramidal': 5.4e-5}\nnet.add_bursty_drive(\n    'bursty', tstart=50., burst_rate=10, burst_std=20., numspikes=2,\n    spike_isi=10, repeats=10, location='distal', weights_ampa=weights_ampa,\n    seedcore=4)"
      ]
    },
    {
      "cell_type": "markdown",
      "metadata": {},
      "source": [
        "Finally, to simulate we use the\n:class:`~hnn_core.parallel_backends.MPIBackend` class. This will\nstart the simulation across the number of processors (cores) specified by\n``n_procs`` using MPI. The ``'mpiexec'`` launcher is used from\n``openmpi``, which must be installed on the system\n\n"
      ]
    },
    {
      "cell_type": "code",
      "execution_count": null,
      "metadata": {
        "collapsed": false
      },
      "outputs": [],
      "source": [
        "from hnn_core import MPIBackend\n\nwith MPIBackend(n_procs=2, mpi_cmd='mpiexec'):\n    dpls = simulate_dipole(net, n_trials=1, postproc=False)\n\ntrial_idx = 0\ndpls[trial_idx].plot()"
      ]
    }
  ],
  "metadata": {
    "kernelspec": {
      "display_name": "Python 3",
      "language": "python",
      "name": "python3"
    },
    "language_info": {
      "codemirror_mode": {
        "name": "ipython",
        "version": 3
      },
      "file_extension": ".py",
      "mimetype": "text/x-python",
      "name": "python",
      "nbconvert_exporter": "python",
      "pygments_lexer": "ipython3",
      "version": "3.6.13"
    }
  },
  "nbformat": 4,
  "nbformat_minor": 0
}