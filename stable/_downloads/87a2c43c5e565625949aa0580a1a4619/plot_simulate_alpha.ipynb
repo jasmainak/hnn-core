{
  "cells": [
    {
      "cell_type": "code",
      "execution_count": null,
      "metadata": {
        "collapsed": false
      },
      "outputs": [],
      "source": [
        "%matplotlib inline"
      ]
    },
    {
      "cell_type": "markdown",
      "metadata": {},
      "source": [
        "\n# 02. Simulate alpha and beta waves\n\nThis example demonstrates how to simulate alpha and beta waves using\nHNN-core. Alpha activity can be produced with 10 Hz excitatory drive to the\nproximal or distal dendrites of pyramidal neurons. Providing proximal and\ndistal drive simultaneously results in higher frequency beta activity [1]_,\n[2]_.\n\n"
      ]
    },
    {
      "cell_type": "code",
      "execution_count": null,
      "metadata": {
        "collapsed": false
      },
      "outputs": [],
      "source": [
        "# Authors: Mainak Jas <mainak.jas@telecom-paristech.fr>\n#          Sam Neymotin <samnemo@gmail.com>\n#          Nick Tolley <nicholas_tolley@brown.edu>\n#          Christopher Bailey <bailey.cj@gmail.com>\n\nimport os.path as op"
      ]
    },
    {
      "cell_type": "markdown",
      "metadata": {},
      "source": [
        "Let us import hnn_core\n\n"
      ]
    },
    {
      "cell_type": "code",
      "execution_count": null,
      "metadata": {
        "collapsed": false
      },
      "outputs": [],
      "source": [
        "import hnn_core\nfrom hnn_core import simulate_dipole, read_params, Network"
      ]
    },
    {
      "cell_type": "markdown",
      "metadata": {},
      "source": [
        "Then we setup the directories and read the default parameters file\n\n"
      ]
    },
    {
      "cell_type": "code",
      "execution_count": null,
      "metadata": {
        "collapsed": false
      },
      "outputs": [],
      "source": [
        "hnn_core_root = op.dirname(hnn_core.__file__)\nparams_fname = op.join(hnn_core_root, 'param', 'default.json')\nparams = read_params(params_fname)"
      ]
    },
    {
      "cell_type": "markdown",
      "metadata": {},
      "source": [
        "Now let's simulate the dipole and plot it. To excite the network, we add a\n~10 Hz \"bursty\" drive starting at 50 ms and continuing to the end of the\nsimulation. Each burst consists of a pair (2) of spikes, spaced 10 ms apart.\nThe occurrence of each burst is jittered by a random, normally distributed\namount (20 ms standard deviation). We repeat the burst train 10 times, each\ntime with unique randomization. The drive is only connected to the proximal\n(dendritic) AMPA synapses on L2/3 and L5 pyramidal neurons.\n\n"
      ]
    },
    {
      "cell_type": "code",
      "execution_count": null,
      "metadata": {
        "collapsed": false
      },
      "outputs": [],
      "source": [
        "params['tstop'] = 310\nnet = Network(params)\n\nlocation = 'proximal'\nburst_std = 20\nweights_ampa_p = {'L2_pyramidal': 5.4e-5, 'L5_pyramidal': 5.4e-5}\nsyn_delays_p = {'L2_pyramidal': 0.1, 'L5_pyramidal': 1.}\n\nnet.add_bursty_drive(\n    'alpha_prox', tstart=50., burst_rate=10, burst_std=burst_std, numspikes=2,\n    spike_isi=10, repeats=10, location=location, weights_ampa=weights_ampa_p,\n    synaptic_delays=syn_delays_p, seedcore=14)\n\n# simulate the dipole, but do not automatically scale or smooth the result\ndpl = simulate_dipole(net, n_trials=1, postproc=False)\n\ntrial_idx = 0  # single trial simulated, choose the first index\n# to emulate a larger patch of cortex, we can apply a simple scaling factor\ndpl[trial_idx].scale(3000)"
      ]
    },
    {
      "cell_type": "markdown",
      "metadata": {},
      "source": [
        "Prior to plotting, we can choose to smooth the dipole waveform (note that the\n:meth:`~hnn_core.dipole.smooth`-method operates in-place, *i.e.*, it alters\nthe data inside the ``Dipole`` object). Smoothing approximates the effect of\nsignal summation from a larger number and greater volume of neurons than are\nincluded in our biophysical model. We can confirm that what we simulate is\nindeed 10 Hz activity by plotting the power spectral density (PSD).\n\n"
      ]
    },
    {
      "cell_type": "code",
      "execution_count": null,
      "metadata": {
        "collapsed": false
      },
      "outputs": [],
      "source": [
        "import matplotlib.pyplot as plt\nfrom hnn_core.viz import plot_dipole, plot_psd\n\nfig, axes = plt.subplots(2, 1, constrained_layout=True)\ntmin, tmax = 10, 300  # exclude the initial burn-in period from the plots\n\n# We'll make a copy of the dipole before smoothing in order to compare\nwindow_len = 20  # convolve with a 20 ms-long Hamming window\ndpl_smooth = dpl[trial_idx].copy().smooth(window_len)\n\n# Overlay the traces for comparison. The function plot_dipole can plot a list\n# of dipoles at once\ndpl_list = [dpl[trial_idx], dpl_smooth]\nplot_dipole(dpl_list, tmin=tmin, tmax=tmax, ax=axes[0], show=False)\naxes[0].set_xlim((1, 399))\naxes[0].legend(['orig', 'smooth'])\n\nplot_psd(dpl[trial_idx], fmin=1., fmax=1e3, tmin=tmin, ax=axes[1], show=False)\naxes[1].set_xscale('log')\nplt.tight_layout()"
      ]
    },
    {
      "cell_type": "markdown",
      "metadata": {},
      "source": [
        "The next step is to add a simultaneous 10 Hz distal drive with a lower\nwithin-burst spread of spike times (``burst_std``) compared with the\nproximal one. The different arrival times of spikes at opposite ends of\nthe pyramidal cells will tend to produce bursts of 15-30 Hz power known\nas beta frequency events.\n\n"
      ]
    },
    {
      "cell_type": "code",
      "execution_count": null,
      "metadata": {
        "collapsed": false
      },
      "outputs": [],
      "source": [
        "location = 'distal'\nburst_std = 15\nweights_ampa_d = {'L2_pyramidal': 5.4e-5, 'L5_pyramidal': 5.4e-5}\nsyn_delays_d = {'L2_pyramidal': 5., 'L5_pyramidal': 5.}\nnet.add_bursty_drive(\n    'alpha_dist', tstart=50., burst_rate=10, burst_std=burst_std, numspikes=2,\n    spike_isi=10, repeats=10, location=location, weights_ampa=weights_ampa_d,\n    synaptic_delays=syn_delays_d, seedcore=16)\n\ndpl = simulate_dipole(net, n_trials=1, postproc=False)"
      ]
    },
    {
      "cell_type": "markdown",
      "metadata": {},
      "source": [
        "We can verify that beta frequency activity was produced by inspecting the PSD\nof the most recent simulation. The dominant power in the signal is shifted\nfrom alpha (~10 Hz) to beta (15-25 Hz) frequency range. All plotting and\nsmoothing parameters are as above, but here no scaling is applied, leading to\nsmaller absolute values in the plots.\n\n"
      ]
    },
    {
      "cell_type": "code",
      "execution_count": null,
      "metadata": {
        "collapsed": false
      },
      "outputs": [],
      "source": [
        "fig, axes = plt.subplots(2, 1, constrained_layout=True)\n\n# We'll again make a copy of the dipole before smoothing\nsmooth_dpl = dpl[trial_idx].copy().smooth(window_len)\n\n# Note that using the ``plot_*``-functions are available as ``Dipole``-methods:\ndpl[trial_idx].plot(tmin=tmin, tmax=tmax, ax=axes[0], show=False)\nsmooth_dpl.plot(tmin=tmin, tmax=tmax, ax=axes[0], show=False)\n\ndpl[trial_idx].plot_psd(fmin=0., fmax=40., tmin=tmin, ax=axes[1])\nplt.tight_layout()"
      ]
    },
    {
      "cell_type": "markdown",
      "metadata": {},
      "source": [
        "## References\n.. [1] Jones, S. R. et al. Quantitative analysis and biophysically realistic\n   neural modeling of the MEG mu rhythm: rhythmogenesis and modulation of\n   sensory-evoked responses. J. Neurophysiol. 102, 3554\u20133572 (2009).\n\n.. [2] https://jonescompneurolab.github.io/hnn-tutorials/alpha_and_beta/alpha_and_beta\n\n"
      ]
    }
  ],
  "metadata": {
    "kernelspec": {
      "display_name": "Python 3",
      "language": "python",
      "name": "python3"
    },
    "language_info": {
      "codemirror_mode": {
        "name": "ipython",
        "version": 3
      },
      "file_extension": ".py",
      "mimetype": "text/x-python",
      "name": "python",
      "nbconvert_exporter": "python",
      "pygments_lexer": "ipython3",
      "version": "3.6.13"
    }
  },
  "nbformat": 4,
  "nbformat_minor": 0
}