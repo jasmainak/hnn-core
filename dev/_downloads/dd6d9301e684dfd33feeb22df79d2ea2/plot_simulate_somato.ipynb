{
  "cells": [
    {
      "cell_type": "code",
      "execution_count": null,
      "metadata": {
        "collapsed": false
      },
      "outputs": [],
      "source": [
        "%matplotlib inline"
      ]
    },
    {
      "cell_type": "markdown",
      "metadata": {},
      "source": [
        "\n# 05. From MEG sensor-space data to HNN simulation\n\nThis example demonstrates how to calculate the inverse solution of the median\nnerve evoked response in S1 from the MNE somatosensory dataset, and then\nsimulate a biophysical model network that reproduces the observed dynamics.\n\n"
      ]
    },
    {
      "cell_type": "code",
      "execution_count": null,
      "metadata": {
        "collapsed": false
      },
      "outputs": [],
      "source": [
        "# Authors: Mainak Jas <mainakjas@gmail.com>\n#          Ryan Thorpe <ryan_thorpe@brown.edu>\n\n# sphinx_gallery_thumbnail_number = 2"
      ]
    },
    {
      "cell_type": "markdown",
      "metadata": {},
      "source": [
        "First, we will import the packages needed for computing the inverse solution\nfrom the MNE somatosensory dataset. `MNE`_ can be installed with\n``pip install mne``, and the somatosensory dataset can be downloaded by\nimporting ``somato`` from ``mne.datasets``.\n\n"
      ]
    },
    {
      "cell_type": "code",
      "execution_count": null,
      "metadata": {
        "collapsed": false
      },
      "outputs": [],
      "source": [
        "import os.path as op\nimport matplotlib.pyplot as plt\n\nimport mne\nfrom mne.datasets import somato\nfrom mne.minimum_norm import apply_inverse, make_inverse_operator"
      ]
    },
    {
      "cell_type": "markdown",
      "metadata": {},
      "source": [
        "Now we set the the path of the ``somato`` dataset for subject ``'01'``.\n\n"
      ]
    },
    {
      "cell_type": "code",
      "execution_count": null,
      "metadata": {
        "collapsed": false
      },
      "outputs": [],
      "source": [
        "data_path = somato.data_path()\nsubject = '01'\ntask = 'somato'\nraw_fname = op.join(data_path, 'sub-{}'.format(subject), 'meg',\n                    'sub-{}_task-{}_meg.fif'.format(subject, task))\nfwd_fname = op.join(data_path, 'derivatives', 'sub-{}'.format(subject),\n                    'sub-{}_task-{}-fwd.fif'.format(subject, task))\nsubjects_dir = op.join(data_path, 'derivatives', 'freesurfer', 'subjects')"
      ]
    },
    {
      "cell_type": "markdown",
      "metadata": {},
      "source": [
        "Then, we load the raw data and estimate the inverse operator.\n\n"
      ]
    },
    {
      "cell_type": "code",
      "execution_count": null,
      "metadata": {
        "collapsed": false
      },
      "outputs": [],
      "source": [
        "# Read and band-pass filter the raw data\nraw = mne.io.read_raw_fif(raw_fname, preload=True)\nl_freq, h_freq = 1, 40\nraw.filter(l_freq, h_freq)\n\n# Identify stimulus events associated with MEG time series in the dataset\nevents = mne.find_events(raw, stim_channel='STI 014')\n\n# Define epochs within the time series\nevent_id, tmin, tmax = 1, -.2, .17\nbaseline = None\nepochs = mne.Epochs(raw, events, event_id, tmin, tmax, baseline=baseline,\n                    reject=dict(grad=4000e-13, eog=350e-6), preload=True)\n\n# Compute the inverse operator\nfwd = mne.read_forward_solution(fwd_fname)\ncov = mne.compute_covariance(epochs)\ninv = make_inverse_operator(epochs.info, fwd, cov)"
      ]
    },
    {
      "cell_type": "markdown",
      "metadata": {},
      "source": [
        "There are several methods to do source reconstruction. Some of the methods\nsuch as MNE are distributed source methods whereas dipole fitting will\nestimate the location and amplitude of a single current dipole. At the\nmoment, we do not offer explicit recommendations on which source\nreconstruction technique is best for HNN. However, we do want our users\nto note that the dipole currents simulated with HNN are assumed to be normal\nto the cortical surface. Hence, using the option ``pick_ori='normal'`` is\nappropriate.\n\n"
      ]
    },
    {
      "cell_type": "code",
      "execution_count": null,
      "metadata": {
        "collapsed": false
      },
      "outputs": [],
      "source": [
        "snr = 3.\nlambda2 = 1. / snr ** 2\nevoked = epochs.average()\nstc = apply_inverse(evoked, inv, lambda2, method='MNE',\n                    pick_ori=\"normal\", return_residual=False,\n                    verbose=True)"
      ]
    },
    {
      "cell_type": "markdown",
      "metadata": {},
      "source": [
        "To extract the primary response in primary somatosensory cortex (S1), we\ncreate a label for the postcentral gyrus (S1) in source-space\n\n"
      ]
    },
    {
      "cell_type": "code",
      "execution_count": null,
      "metadata": {
        "collapsed": false
      },
      "outputs": [],
      "source": [
        "hemi = 'rh'\nlabel_tag = 'G_postcentral'\nlabel_s1 = mne.read_labels_from_annot(subject, parc='aparc.a2009s', hemi=hemi,\n                                      regexp=label_tag,\n                                      subjects_dir=subjects_dir)[0]"
      ]
    },
    {
      "cell_type": "markdown",
      "metadata": {},
      "source": [
        "Visualizing the distributed S1 activation in reference to the geometric\nstructure of the cortex (i.e., plotted on a structural MRI) can help us\nfigure out how to orient the dipole. Note that in the HNN framework,\npositive and negative deflections of a current dipole source correspond to\nupwards (from deep to superficial) and downwards (from superficial to deep)\ncurrent flow, respectively. Uncomment the following code to open an\ninteractive 3D render of the brain and its surface activation (requires the\n``pyvista`` python library). You should get 2 plots, the first showing the\npost-central gyrus label from which the dipole time course was extracted and\nthe second showing MNE activation at 0.040 sec that resemble the following\nimages.\n\n"
      ]
    },
    {
      "cell_type": "code",
      "execution_count": null,
      "metadata": {
        "collapsed": false
      },
      "outputs": [],
      "source": [
        "'''\nBrain = mne.viz.get_brain_class()\nbrain_label = Brain(subject, hemi, 'white', subjects_dir=subjects_dir)\nbrain_label.add_label(label_s1, color='green', alpha=0.9)\nstc_label = stc.in_label(label_s1)\nbrain = stc_label.plot(subjects_dir=subjects_dir, hemi=hemi, surface='white',\n                       view_layout='horizontal', initial_time=0.04,\n                       backend='pyvista')\n'''"
      ]
    },
    {
      "cell_type": "markdown",
      "metadata": {},
      "source": [
        "|mne_label_fig|\n\n|mne_activity_fig|\n\n"
      ]
    },
    {
      "cell_type": "markdown",
      "metadata": {},
      "source": [
        "Now we extract the representative time course of dipole activation in our\nlabeled brain region using ``mode='pca_flip'`` (see `this MNE-python\nexample`_ for more details). Note that the most prominent component of the\nmedian nerve response occurs in the posterior wall of the central sulcus at\n~0.040 sec. Since the dipolar activity here is negative, we orient the\nextracted waveform so that the deflection at ~0.040 sec is pointed downwards.\nThus, the ~0.040 sec deflection corresponds to current flow traveling from\nsuperficial to deep layers of cortex.\n\n"
      ]
    },
    {
      "cell_type": "code",
      "execution_count": null,
      "metadata": {
        "collapsed": false
      },
      "outputs": [],
      "source": [
        "flip_data = stc.extract_label_time_course(label_s1, inv['src'],\n                                          mode='pca_flip')\ndipole_tc = -flip_data[0] * 1e9\n\nplt.figure()\nplt.plot(1e3 * stc.times, dipole_tc, 'ro--')\nplt.xlabel('Time (ms)')\nplt.ylabel('Current Dipole (nAm)')\nplt.xlim((0, 170))\nplt.axhline(0, c='k', ls=':')\nplt.show()"
      ]
    },
    {
      "cell_type": "markdown",
      "metadata": {},
      "source": [
        "Now, let us try to simulate the same with ``hnn-core``. We read in the\nnetwork parameters from ``N20.json`` and instantiate the network.\n\n"
      ]
    },
    {
      "cell_type": "code",
      "execution_count": null,
      "metadata": {
        "collapsed": false
      },
      "outputs": [],
      "source": [
        "import hnn_core\nfrom hnn_core import simulate_dipole, read_params, Network, JoblibBackend\nfrom hnn_core import average_dipoles\n\nhnn_core_root = op.dirname(hnn_core.__file__)\n\nparams_fname = op.join(hnn_core_root, 'param', 'N20.json')\nparams = read_params(params_fname)\n\nnet = Network(params)"
      ]
    },
    {
      "cell_type": "markdown",
      "metadata": {},
      "source": [
        "To simulate the source of the median nerve evoked response, we add a\nsequence of synchronous evoked drives: 1 proximal, 2 distal, and 1 final\nproximal drive. Note that setting ``sync_within_trial=True`` creates drives\nwith synchronous input (arriving to and transmitted by hypothetical granular\ncells at the center of the network) to all pyramidal and basket cells that\nreceive distal drive. Note that granule cells are not explicitly modelled\nwithin HNN.\n\n"
      ]
    },
    {
      "cell_type": "code",
      "execution_count": null,
      "metadata": {
        "collapsed": false
      },
      "outputs": [],
      "source": [
        "# Early proximal drive\nweights_ampa_p = {'L2_basket': 0.0036, 'L2_pyramidal': 0.0039,\n                  'L5_basket': 0.0019, 'L5_pyramidal': 0.0020}\nweights_nmda_p = {'L2_basket': 0.0029, 'L2_pyramidal': 0.0005,\n                  'L5_basket': 0.0030, 'L5_pyramidal': 0.0019}\nsynaptic_delays_p = {'L2_basket': 0.1, 'L2_pyramidal': 0.1,\n                     'L5_basket': 1.0, 'L5_pyramidal': 1.0}\n\nnet.add_evoked_drive(\n    'evprox1', mu=21., sigma=4., numspikes=1, sync_within_trial=True,\n    weights_ampa=weights_ampa_p, weights_nmda=weights_nmda_p,\n    location='proximal', synaptic_delays=synaptic_delays_p, seedcore=6)\n\n# Late proximal drive\nweights_ampa_p = {'L2_basket': 0.003, 'L2_pyramidal': 0.0039,\n                  'L5_basket': 0.004, 'L5_pyramidal': 0.0020}\nweights_nmda_p = {'L2_basket': 0.001, 'L2_pyramidal': 0.0005,\n                  'L5_basket': 0.002, 'L5_pyramidal': 0.0020}\nsynaptic_delays_p = {'L2_basket': 0.1, 'L2_pyramidal': 0.1,\n                     'L5_basket': 1.0, 'L5_pyramidal': 1.0}\n\nnet.add_evoked_drive(\n    'evprox2', mu=134., sigma=4.5, numspikes=1, sync_within_trial=True,\n    weights_ampa=weights_ampa_p, weights_nmda=weights_nmda_p,\n    location='proximal', synaptic_delays=synaptic_delays_p, seedcore=6)\n\n# Early distal drive\nweights_ampa_d = {'L2_basket': 0.0043, 'L2_pyramidal': 0.0032,\n                  'L5_pyramidal': 0.0009}\nweights_nmda_d = {'L2_basket': 0.0029, 'L2_pyramidal': 0.0051,\n                  'L5_pyramidal': 0.0010}\nsynaptic_delays_d = {'L2_basket': 0.1, 'L2_pyramidal': 0.1,\n                     'L5_pyramidal': 0.1}\n\nnet.add_evoked_drive(\n    'evdist1', mu=32., sigma=2.5, numspikes=1, sync_within_trial=True,\n    weights_ampa=weights_ampa_d, weights_nmda=weights_nmda_d,\n    location='distal', synaptic_delays=synaptic_delays_d, seedcore=6)\n\n# Late distal drive\nweights_ampa_d = {'L2_basket': 0.0041, 'L2_pyramidal': 0.0019,\n                  'L5_pyramidal': 0.0018}\nweights_nmda_d = {'L2_basket': 0.0032, 'L2_pyramidal': 0.0018,\n                  'L5_pyramidal': 0.0017}\nsynaptic_delays_d = {'L2_basket': 0.1, 'L2_pyramidal': 0.1,\n                     'L5_pyramidal': 0.1}\n\nnet.add_evoked_drive(\n    'evdist2', mu=84., sigma=4.5, numspikes=1, sync_within_trial=True,\n    weights_ampa=weights_ampa_d, weights_nmda=weights_nmda_d,\n    location='distal', synaptic_delays=synaptic_delays_d, seedcore=2)"
      ]
    },
    {
      "cell_type": "markdown",
      "metadata": {},
      "source": [
        "Now we run the simulation over 2 trials so that we can plot the average\naggregate dipole. For a better match to the empirical waveform, set\n``n_trials`` to be >=25.\n\n"
      ]
    },
    {
      "cell_type": "code",
      "execution_count": null,
      "metadata": {
        "collapsed": false
      },
      "outputs": [],
      "source": [
        "n_trials = 2\n# n_trials = 25\nwith JoblibBackend(n_jobs=2):\n    dpls = simulate_dipole(net, n_trials=n_trials)"
      ]
    },
    {
      "cell_type": "markdown",
      "metadata": {},
      "source": [
        "Finally, we plot the driving spike histogram, empirical and simulated median\nnerve evoked response waveforms, and output spike histogram.\n\n"
      ]
    },
    {
      "cell_type": "code",
      "execution_count": null,
      "metadata": {
        "collapsed": false
      },
      "outputs": [],
      "source": [
        "fig, axes = plt.subplots(3, 1, sharex=True, figsize=(6, 6),\n                         constrained_layout=True)\nnet.cell_response.plot_spikes_hist(ax=axes[0],\n                                   spike_types=['evprox', 'evdist'],\n                                   show=False)\naxes[1].axhline(0, c='k', ls=':', label='_nolegend_')\naxes[1].plot(1e3 * stc.times, dipole_tc, 'r--')\naverage_dipoles(dpls).plot(ax=axes[1], show=False)\naxes[1].legend(['MNE label average', 'HNN simulation'])\naxes[1].set_ylabel('Current Dipole (nAm)')\nnet.cell_response.plot_spikes_raster(ax=axes[2])"
      ]
    },
    {
      "cell_type": "markdown",
      "metadata": {},
      "source": [
        ".. LINKS\n\n.. |mne_label_fig| image:: https://user-images.githubusercontent.com/20212206/106524603-cfe75c80-64b0-11eb-9607-3415195c3e7a.png # noqa\n  :width: 400\n.. |mne_activity_fig| image:: https://user-images.githubusercontent.com/20212206/106524542-b514e800-64b0-11eb-835e-497454e75eb9.png # noqa\n  :width: 400\n\n"
      ]
    }
  ],
  "metadata": {
    "kernelspec": {
      "display_name": "Python 3",
      "language": "python",
      "name": "python3"
    },
    "language_info": {
      "codemirror_mode": {
        "name": "ipython",
        "version": 3
      },
      "file_extension": ".py",
      "mimetype": "text/x-python",
      "name": "python",
      "nbconvert_exporter": "python",
      "pygments_lexer": "ipython3",
      "version": "3.6.13"
    }
  },
  "nbformat": 4,
  "nbformat_minor": 0
}