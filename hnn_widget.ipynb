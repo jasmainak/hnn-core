{
 "cells": [
  {
   "cell_type": "code",
   "execution_count": 50,
   "metadata": {},
   "outputs": [],
   "source": [
    "import os.path as op\n",
    "\n",
    "import hnn_core\n",
    "from hnn_core import simulate_dipole, read_params, Network\n",
    "\n",
    "hnn_core_root = op.join(op.dirname(hnn_core.__file__))\n",
    "\n",
    "params_fname = op.join(hnn_core_root, 'param', 'default.json')\n",
    "params = read_params(params_fname)"
   ]
  },
  {
   "cell_type": "code",
   "execution_count": 51,
   "metadata": {},
   "outputs": [],
   "source": [
    "from ipywidgets import AppLayout, Button"
   ]
  },
  {
   "cell_type": "code",
   "execution_count": 52,
   "metadata": {},
   "outputs": [],
   "source": [
    "# HNN Banner\n",
    "def create_expanded_button(description, button_style):\n",
    "    return Button(description=description, button_style=button_style, layout=Layout(height='10', width='auto'))\n",
    "\n",
    "header_button = create_expanded_button('Human Neocortical Neurosolver', 'success')"
   ]
  },
  {
   "cell_type": "code",
   "execution_count": 105,
   "metadata": {},
   "outputs": [
    {
     "data": {
      "text/plain": [
       "[None, None]"
      ]
     },
     "execution_count": 105,
     "metadata": {},
     "output_type": "execute_result"
    }
   ],
   "source": [
    "# Sliders to change Params\n",
    "from ipywidgets import (FloatSlider, Dropdown, Layout, Accordion, Tab, VBox,\n",
    "                        interactive_output, interactive)\n",
    "from functools import partial\n",
    "  \n",
    "def update_params(**updates):\n",
    "    params.update(dict(**updates))\n",
    "    return params\n",
    "    \n",
    "def _get_min(v):\n",
    "    if v < 0:\n",
    "        return v * 10\n",
    "    else:\n",
    "        return v * 0.1\n",
    "\n",
    "def _get_max(v):\n",
    "    if v > 0:\n",
    "        return v * 10\n",
    "    else:\n",
    "        return v * 0.1\n",
    "\n",
    "    \n",
    "variables = dict(net=None, dpl=None)\n",
    "\n",
    "def _get_sliders(params, param_keys):\n",
    "    \"\"\"Get sliders\"\"\"\n",
    "    style = {'description_width': 'initial'}\n",
    "    sliders = list()\n",
    "    for d in param_keys:\n",
    "        min_val = _get_min(params[d])\n",
    "        max_val = _get_max(params[d])\n",
    "        step = (max_val - min_val) / 10.\n",
    "        slider = FloatSlider(\n",
    "        value=params[d], min=min_val, max=max_val, step=step,\n",
    "        description=d,\n",
    "        disabled=False, continuous_update=False, orientation='horizontal',\n",
    "        readout=True, readout_format='.2e',\n",
    "        style=style)\n",
    "        sliders.append(slider)\n",
    "    \n",
    "    interactive_output(update_params, {s.description: s for s in sliders})\n",
    "    return sliders\n",
    "\n",
    "sliders = [_get_sliders(params, ['gbar_L2Pyr_L2Pyr_ampa', 'gbar_L2Pyr_L2Pyr_nmda',\n",
    "                                 'gbar_L2Basket_L2Pyr_gabaa', 'gbar_L2Basket_L2Pyr_gabab']),\n",
    "           _get_sliders(params, ['gbar_L2Pyr_L5Pyr', 'gbar_L2Basket_L5Pyr', 'gbar_L5Pyr_L5Pyr_ampa',\n",
    "                                 'gbar_L5Pyr_L5Pyr_nmda', 'gbar_L5Basket_L5Pyr_gabaa',\n",
    "                                 'gbar_L5Basket_L5Pyr_gabab']),\n",
    "           _get_sliders(params, ['gbar_L2Pyr_L2Basket', 'gbar_L2Basket_L2Basket']),\n",
    "           _get_sliders(params, ['gbar_L2Pyr_L5Pyr', 'gbar_L2Basket_L5Pyr'])]\n",
    "\n",
    "# accordians\n",
    "boxes = [VBox(slider) for slider in sliders]\n",
    "titles = ['Layer 2/3 Pyr', 'Layer 5 Pyr', 'Layer 2 Bas', 'Layer 5 Bas']\n",
    "accordian = Accordion(children=boxes)\n",
    "[accordian.set_title(idx, title) for idx, title in enumerate(titles)]\n",
    "\n",
    "# Tabs\n",
    "left_tab = Tab()\n",
    "left_tab.children = [accordian, accordian]\n",
    "titles = ['Cell connectivity', 'Drives']\n",
    "[left_tab.set_title(idx, title) for idx, title in enumerate(titles)]  # XXX: why doesn't this work?"
   ]
  },
  {
   "cell_type": "code",
   "execution_count": 106,
   "metadata": {},
   "outputs": [],
   "source": [
    "from ipywidgets import HBox, VBox\n",
    "\n",
    "# Dropdown menu to switch between plots\n",
    "\n",
    "def update_plot(plot_type):\n",
    "    plot_out.clear_output()\n",
    "\n",
    "    if not (plot_type['type'] == 'change' and plot_type['name'] == 'value'):\n",
    "        return\n",
    "    \n",
    "    with plot_out:\n",
    "        if plot_type['new'] == 'spikes':\n",
    "            variables['net'].cell_response.plot_spikes_raster()\n",
    "        elif plot_type['new'] == 'dipole current':\n",
    "            variables['dpls'][0].plot()\n",
    "        elif plot_type['new'] == 'input histogram':\n",
    "            variables['net'].cell_response.plot_spikes_hist()\n",
    "\n",
    "\n",
    "dropdown = Dropdown(\n",
    "    options=['input histogram', 'dipole current', 'spikes'],\n",
    "    value='dipole current',\n",
    "    description='Plot:',\n",
    "    disabled=False,\n",
    ")\n",
    "\n",
    "interactive(update_plot, plot_type='dipole current')\n",
    "dropdown.observe(update_plot, 'value')"
   ]
  },
  {
   "cell_type": "code",
   "execution_count": 107,
   "metadata": {},
   "outputs": [],
   "source": [
    "# Run button\n",
    "from ipywidgets import Output\n",
    "\n",
    "log_out = Output(layout={'border': '1px solid gray'})\n",
    "plot_out = Output(layout={'border': '1px solid gray'})\n",
    "\n",
    "\n",
    "def on_button_clicked(b, variables):\n",
    "    \"\"\"Run the simulation and plot outputs.\"\"\"\n",
    "    with log_out:\n",
    "        variables['net'] = Network(params, add_drives_from_params=True)\n",
    "        variables['dpls'] = simulate_dipole(variables['net'], n_trials=1)\n",
    "    with plot_out:\n",
    "        variables['dpls'][0].plot()\n",
    "\n",
    "run_button = create_expanded_button('Run', 'success')\n",
    "run_button.on_click(partial(on_button_clicked, variables=variables))\n",
    "\n",
    "footer = HBox([run_button, dropdown])"
   ]
  },
  {
   "cell_type": "code",
   "execution_count": 108,
   "metadata": {
    "slideshow": {
     "slide_type": "slide"
    }
   },
   "outputs": [
    {
     "data": {
      "application/vnd.jupyter.widget-view+json": {
       "model_id": "2666cdedf14b4876adc9c6cadb3cc3f0",
       "version_major": 2,
       "version_minor": 0
      },
      "text/plain": [
       "AppLayout(children=(Button(button_style='success', description='Human Neocortical Neurosolver', layout=Layout(…"
      ]
     },
     "metadata": {},
     "output_type": "display_data"
    }
   ],
   "source": [
    "# Final layout of the app\n",
    "AppLayout(header=header_button,\n",
    "          left_sidebar=left_tab,\n",
    "          center=log_out,\n",
    "          right_sidebar=plot_out,\n",
    "          footer=footer,\n",
    "          pane_widths=[1, 1, 1])"
   ]
  }
 ],
 "metadata": {
  "celltoolbar": "Slideshow",
  "kernelspec": {
   "display_name": "Python 3",
   "language": "python",
   "name": "python3"
  },
  "language_info": {
   "codemirror_mode": {
    "name": "ipython",
    "version": 3
   },
   "file_extension": ".py",
   "mimetype": "text/x-python",
   "name": "python",
   "nbconvert_exporter": "python",
   "pygments_lexer": "ipython3",
   "version": "3.8.6"
  }
 },
 "nbformat": 4,
 "nbformat_minor": 2
}
