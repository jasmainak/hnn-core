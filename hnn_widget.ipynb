{
 "cells": [
  {
   "cell_type": "code",
   "execution_count": 1,
   "metadata": {},
   "outputs": [],
   "source": [
    "import os.path as op\n",
    "\n",
    "import hnn_core\n",
    "from hnn_core import simulate_dipole, read_params, Network\n",
    "\n",
    "hnn_core_root = op.join(op.dirname(hnn_core.__file__))\n",
    "\n",
    "params_fname = op.join(hnn_core_root, 'param', 'default.json')\n",
    "params = read_params(params_fname)"
   ]
  },
  {
   "cell_type": "code",
   "execution_count": 2,
   "metadata": {},
   "outputs": [],
   "source": [
    "from ipywidgets import AppLayout, Button, Layout"
   ]
  },
  {
   "cell_type": "code",
   "execution_count": 3,
   "metadata": {},
   "outputs": [],
   "source": [
    "# HNN Banner\n",
    "def create_expanded_button(description, button_style):\n",
    "    return Button(description=description, button_style=button_style, layout=Layout(height='10', width='auto'))\n",
    "\n",
    "header_button = create_expanded_button('Human Neocortical Neurosolver', 'success')"
   ]
  },
  {
   "cell_type": "code",
   "execution_count": 4,
   "metadata": {},
   "outputs": [
    {
     "data": {
      "application/vnd.jupyter.widget-view+json": {
       "model_id": "285629137ceb476d982830e46eac5eee",
       "version_major": 2,
       "version_minor": 0
      },
      "text/plain": [
       "Output()"
      ]
     },
     "metadata": {},
     "output_type": "display_data"
    }
   ],
   "source": [
    "# Sliders to change Params\n",
    "from ipywidgets import FloatSlider, Dropdown, interactive_output, interactive\n",
    "from functools import partial\n",
    "  \n",
    "def update_params(**updates):\n",
    "    params.update(dict(**updates))\n",
    "    return params\n",
    "    \n",
    "def _get_min(v):\n",
    "    if v < 0:\n",
    "        return v * 10\n",
    "    else:\n",
    "        return v * 0.1\n",
    "\n",
    "def _get_max(v):\n",
    "    if v > 0:\n",
    "        return v * 10\n",
    "    else:\n",
    "        return v * 0.1\n",
    "\n",
    "    \n",
    "variables = dict(net=None, dpl=None)\n",
    "\n",
    "sliders = [FloatSlider(\n",
    "    value=params[d], min=_get_min(params[d]), max=_get_max(params[d]), step=0.1,\n",
    "    description=d,\n",
    "    disabled=False, continuous_update=False, orientation='horizontal',\n",
    "    readout=True, readout_format='.2f') for d in params['L2Pyr_soma*'].keys()]\n",
    "\n",
    "interactive_output(update_params, {s.description: s for s in sliders})"
   ]
  },
  {
   "cell_type": "code",
   "execution_count": 5,
   "metadata": {},
   "outputs": [],
   "source": [
    "from ipywidgets import HBox, VBox\n",
    "\n",
    "# Dropdown menu to switch between plots\n",
    "\n",
    "def update_plot(plot_type):\n",
    "    plot_out.clear_output()\n",
    "\n",
    "    if not (plot_type['type'] == 'change' and plot_type['name'] == 'value'):\n",
    "        return\n",
    "    \n",
    "    with plot_out:\n",
    "        if plot_type['new'] == 'spikes':\n",
    "            variables['net'].cell_response.plot_spikes_raster()\n",
    "        elif plot_type['new'] == 'dipole current':\n",
    "            variables['dpls'][0].plot()\n",
    "        elif plot_type['new'] == 'input histogram':\n",
    "            variables['net'].cell_response.plot_spikes_hist()\n",
    "\n",
    "\n",
    "dropdown = Dropdown(\n",
    "    options=['input histogram', 'dipole current', 'spikes'],\n",
    "    value='dipole current',\n",
    "    description='Plot:',\n",
    "    disabled=False,\n",
    ")\n",
    "\n",
    "interactive(update_plot, plot_type='dipole current')\n",
    "dropdown.observe(update_plot, 'value')\n",
    "\n",
    "left_box = VBox(sliders)"
   ]
  },
  {
   "cell_type": "code",
   "execution_count": 6,
   "metadata": {},
   "outputs": [],
   "source": [
    "# Run button\n",
    "from ipywidgets import Output\n",
    "\n",
    "log_out = Output(layout={'border': '1px solid gray'})\n",
    "plot_out = Output(layout={'border': '1px solid gray'})\n",
    "\n",
    "\n",
    "def on_button_clicked(b, variables):\n",
    "    \"\"\"Run the simulation and plot outputs.\"\"\"\n",
    "    with log_out:\n",
    "        variables['net'] = Network(params, add_drives_from_params=True)\n",
    "        variables['dpls'] = simulate_dipole(variables['net'], n_trials=1)\n",
    "    with plot_out:\n",
    "        variables['dpls'][0].plot()\n",
    "\n",
    "run_button = create_expanded_button('Run', 'success')\n",
    "run_button.on_click(partial(on_button_clicked, variables=variables))\n",
    "\n",
    "footer = HBox([run_button, dropdown])"
   ]
  },
  {
   "cell_type": "code",
   "execution_count": 7,
   "metadata": {
    "slideshow": {
     "slide_type": "slide"
    }
   },
   "outputs": [
    {
     "data": {
      "application/vnd.jupyter.widget-view+json": {
       "model_id": "7166a4f54a1a4f4abaebc2e2c4c42031",
       "version_major": 2,
       "version_minor": 0
      },
      "text/plain": [
       "AppLayout(children=(Button(button_style='success', description='Human Neocortical Neurosolver', layout=Layout(…"
      ]
     },
     "metadata": {},
     "output_type": "display_data"
    }
   ],
   "source": [
    "# Final layout of the app\n",
    "AppLayout(header=header_button,\n",
    "          left_sidebar=left_box,\n",
    "          center=log_out,\n",
    "          right_sidebar=plot_out,\n",
    "          footer=footer,\n",
    "          pane_widths=[1, 1, 1])"
   ]
  }
 ],
 "metadata": {
  "celltoolbar": "Slideshow",
  "kernelspec": {
   "display_name": "Python 3",
   "language": "python",
   "name": "python3"
  },
  "language_info": {
   "codemirror_mode": {
    "name": "ipython",
    "version": 3
   },
   "file_extension": ".py",
   "mimetype": "text/x-python",
   "name": "python",
   "nbconvert_exporter": "python",
   "pygments_lexer": "ipython3",
   "version": "3.7.4"
  }
 },
 "nbformat": 4,
 "nbformat_minor": 2
}
