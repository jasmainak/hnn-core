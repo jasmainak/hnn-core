{
 "cells": [
  {
   "cell_type": "code",
   "execution_count": 1,
   "metadata": {},
   "outputs": [],
   "source": [
    "import os.path as op\n",
    "\n",
    "import hnn_core\n",
    "from hnn_core import simulate_dipole, read_params, Network\n",
    "\n",
    "hnn_core_root = op.join(op.dirname(hnn_core.__file__))\n",
    "\n",
    "params_fname = op.join(hnn_core_root, 'param', 'default.json')\n",
    "params = read_params(params_fname)\n",
    "\n",
    "variables = dict(net=None, dpl=None)\n",
    "variables['net'] = Network(params, add_drives_from_params=True)"
   ]
  },
  {
   "cell_type": "code",
   "execution_count": 2,
   "metadata": {},
   "outputs": [],
   "source": [
    "from ipywidgets import AppLayout, Button, Layout"
   ]
  },
  {
   "cell_type": "code",
   "execution_count": 3,
   "metadata": {},
   "outputs": [],
   "source": [
    "# HNN Banner\n",
    "def create_expanded_button(description, button_style):\n",
    "    return Button(description=description, button_style=button_style, layout=Layout(height='10', width='auto'))\n",
    "\n",
    "header_button = create_expanded_button('Human Neocortical Neurosolver', 'success')"
   ]
  },
  {
   "cell_type": "code",
   "execution_count": 4,
   "metadata": {},
   "outputs": [],
   "source": [
    "# Sliders to change local-connectivity Params\n",
    "from ipywidgets import (FloatSlider, Dropdown, Layout, Accordion, Tab, VBox,\n",
    "                        interactive_output, interactive)\n",
    "from functools import partial\n",
    "  \n",
    "def update_params(**updates):\n",
    "    params.update(dict(**updates))\n",
    "    return params\n",
    "    \n",
    "def _get_min(v):\n",
    "    if v < 0:\n",
    "        return v * 10\n",
    "    else:\n",
    "        return v * 0.1\n",
    "\n",
    "def _get_max(v):\n",
    "    if v > 0:\n",
    "        return v * 10\n",
    "    else:\n",
    "        return v * 0.1\n",
    "\n",
    "\n",
    "def _get_sliders(params, param_keys):\n",
    "    \"\"\"Get sliders\"\"\"\n",
    "    style = {'description_width': 'initial'}\n",
    "    sliders = list()\n",
    "    for d in param_keys:\n",
    "        min_val = _get_min(params[d])\n",
    "        max_val = _get_max(params[d])\n",
    "        step = (max_val - min_val) / 10.\n",
    "        slider = FloatSlider(\n",
    "        value=params[d], min=min_val, max=max_val, step=step,\n",
    "        description=d,\n",
    "        disabled=False, continuous_update=False, orientation='horizontal',\n",
    "        readout=True, readout_format='.2e',\n",
    "        style=style)\n",
    "        sliders.append(slider)\n",
    "    \n",
    "    interactive_output(update_params, {s.description: s for s in sliders})\n",
    "    return sliders\n",
    "\n",
    "sliders = [_get_sliders(params, ['gbar_L2Pyr_L2Pyr_ampa', 'gbar_L2Pyr_L2Pyr_nmda',\n",
    "                                 'gbar_L2Basket_L2Pyr_gabaa', 'gbar_L2Basket_L2Pyr_gabab']),\n",
    "           _get_sliders(params, ['gbar_L2Pyr_L5Pyr', 'gbar_L2Basket_L5Pyr', 'gbar_L5Pyr_L5Pyr_ampa',\n",
    "                                 'gbar_L5Pyr_L5Pyr_nmda', 'gbar_L5Basket_L5Pyr_gabaa',\n",
    "                                 'gbar_L5Basket_L5Pyr_gabab']),\n",
    "           _get_sliders(params, ['gbar_L2Pyr_L2Basket', 'gbar_L2Basket_L2Basket']),\n",
    "           _get_sliders(params, ['gbar_L2Pyr_L5Pyr', 'gbar_L2Basket_L5Pyr'])]\n",
    "\n",
    "# accordians\n",
    "boxes = [VBox(slider) for slider in sliders]\n",
    "titles = ['Layer 2/3 Pyr', 'Layer 5 Pyr', 'Layer 2 Bas', 'Layer 5 Bas']\n",
    "accordian = Accordion(children=boxes)\n",
    "for idx, title in enumerate(titles):\n",
    "    accordian.set_title(idx, title)"
   ]
  },
  {
   "cell_type": "code",
   "execution_count": 13,
   "metadata": {},
   "outputs": [],
   "source": [
    "# Dropdown for different drives\n",
    "\n",
    "from ipywidgets import FloatText, interactive, Dropdown, interact, Output\n",
    "from IPython.display import display\n",
    "\n",
    "layout = Layout(width='200px', height='auto')\n",
    "\n",
    "drives_dropdown = Dropdown(\n",
    "    options=['Evoked', 'Poisson', 'Rhythmic'],\n",
    "    value='Evoked',\n",
    "    description='Drive:',\n",
    "    disabled=False,\n",
    "    layout=layout\n",
    ")\n",
    "\n",
    "drives_out = Output()\n",
    "drive_boxes = list()\n",
    "drive_titles = list()\n",
    "\n",
    "def add_drive_options(drive_type):\n",
    "\n",
    "    drives_out.clear_output()\n",
    "    with drives_out:\n",
    "        if drive_type['new'] == 'Rhythmic':\n",
    "            drive = VBox([FloatText(value=7.5, description='Start time:', disabled=False, layout=layout),\n",
    "                          FloatText(value=7.5, description='Start time dev:', disabled=False, layout=layout),\n",
    "                          FloatText(value=7.5, description='Stop time:', disabled=False, layout=layout),\n",
    "                          FloatText(value=7.5, description='Burst rate:', disabled=False, layout=layout),\n",
    "                          FloatText(value=7.5, description='Burst std dev:', disabled=False, layout=layout),\n",
    "                          FloatText(value=7.5, description='Spike ISI:', disabled=False, layout=layout)])\n",
    "        elif drive_type['new'] == 'Poisson':\n",
    "            drive = VBox([FloatText(value=7.5, description='Start time:', disabled=False, layout=layout),\n",
    "                          FloatText(value=8.5, description='Stop time:', disabled=False, layout=layout),\n",
    "                          FloatText(value=8.5, description='Rate constant:', disabled=False, layout=layout)])\n",
    "        elif drive_type['new'] == 'Evoked':\n",
    "            drive = VBox([FloatText(value=7.5, description='Mean time:', disabled=False, layout=layout),\n",
    "                          FloatText(value=8.5, description='Std dev time:', disabled=False, layout=layout),\n",
    "                          FloatText(value=8.5, description='Number of spikes:', disabled=False, layout=layout)])\n",
    "\n",
    "        drive_title = drive_type['new'] + str(len(drive_boxes))\n",
    "        drive_titles.append(drive_title)\n",
    "        drive_boxes.append(drive)\n",
    "\n",
    "        accordion = Accordion(children=drive_boxes,\n",
    "                              selected_index=len(drive_boxes) - 1)\n",
    "        for idx, this_title in enumerate(drive_titles):\n",
    "            accordion.set_title(idx, this_title)\n",
    "        display(accordion)\n",
    "\n",
    "# XXX: should be simpler to use Stacked class starting from IPywidgets > 8.0\n",
    "interactive(add_drive_options, drive_type='Evoked')\n",
    "drives_dropdown.observe(add_drive_options, 'value')\n",
    "drives_options = VBox([drives_dropdown, drives_out])"
   ]
  },
  {
   "cell_type": "code",
   "execution_count": 14,
   "metadata": {},
   "outputs": [],
   "source": [
    "# Tabs for left pane\n",
    "left_tab = Tab()\n",
    "left_tab.children = [accordian, drives_options]\n",
    "titles = ['Cell connectivity', 'Drives']\n",
    "for idx, title in enumerate(titles):\n",
    "    left_tab.set_title(idx, title)"
   ]
  },
  {
   "cell_type": "code",
   "execution_count": 15,
   "metadata": {},
   "outputs": [],
   "source": [
    "from ipywidgets import HBox, VBox\n",
    "\n",
    "# Dropdown menu to switch between plots\n",
    "\n",
    "def update_plot(plot_type):\n",
    "    plot_out.clear_output()\n",
    "\n",
    "    if not (plot_type['type'] == 'change' and plot_type['name'] == 'value'):\n",
    "        return\n",
    "    \n",
    "    with plot_out:\n",
    "        if plot_type['new'] == 'spikes':\n",
    "            variables['net'].cell_response.plot_spikes_raster()\n",
    "        elif plot_type['new'] == 'dipole current':\n",
    "            variables['dpls'][0].plot()\n",
    "        elif plot_type['new'] == 'input histogram':\n",
    "            variables['net'].cell_response.plot_spikes_hist()\n",
    "\n",
    "\n",
    "dropdown = Dropdown(\n",
    "    options=['input histogram', 'dipole current', 'spikes'],\n",
    "    value='dipole current',\n",
    "    description='Plot:',\n",
    "    disabled=False,\n",
    ")\n",
    "\n",
    "interactive(update_plot, plot_type='dipole current')\n",
    "dropdown.observe(update_plot, 'value')"
   ]
  },
  {
   "cell_type": "code",
   "execution_count": 16,
   "metadata": {},
   "outputs": [],
   "source": [
    "# Run button\n",
    "from ipywidgets import Output\n",
    "\n",
    "log_out = Output(layout={'border': '1px solid gray'})\n",
    "plot_out = Output(layout={'border': '1px solid gray'})\n",
    "\n",
    "\n",
    "def on_button_clicked(b, variables):\n",
    "    \"\"\"Run the simulation and plot outputs.\"\"\"\n",
    "    with log_out:\n",
    "        variables['dpls'] = simulate_dipole(variables['net'], n_trials=1)\n",
    "    with plot_out:\n",
    "        variables['dpls'][0].plot()\n",
    "\n",
    "run_button = create_expanded_button('Run', 'success')\n",
    "run_button.on_click(partial(on_button_clicked, variables=variables))\n",
    "\n",
    "footer = HBox([run_button, dropdown])"
   ]
  },
  {
   "cell_type": "code",
   "execution_count": 17,
   "metadata": {
    "slideshow": {
     "slide_type": "slide"
    }
   },
   "outputs": [
    {
     "data": {
      "application/vnd.jupyter.widget-view+json": {
       "model_id": "baaaacd0bec74e4c80591445290ee878",
       "version_major": 2,
       "version_minor": 0
      },
      "text/plain": [
       "AppLayout(children=(Button(button_style='success', description='Human Neocortical Neurosolver', layout=Layout(…"
      ]
     },
     "metadata": {},
     "output_type": "display_data"
    }
   ],
   "source": [
    "# Final layout of the app\n",
    "AppLayout(header=header_button,\n",
    "          left_sidebar=left_tab,\n",
    "          center=log_out,\n",
    "          right_sidebar=plot_out,\n",
    "          footer=footer,\n",
    "          pane_widths=['380px', 1, 1],\n",
    "          pane_heights=[1, '500px', 1])"
   ]
  }
 ],
 "metadata": {
  "celltoolbar": "Slideshow",
  "kernelspec": {
   "display_name": "Python 3",
   "language": "python",
   "name": "python3"
  },
  "language_info": {
   "codemirror_mode": {
    "name": "ipython",
    "version": 3
   },
   "file_extension": ".py",
   "mimetype": "text/x-python",
   "name": "python",
   "nbconvert_exporter": "python",
   "pygments_lexer": "ipython3",
   "version": "3.8.6"
  }
 },
 "nbformat": 4,
 "nbformat_minor": 2
}
